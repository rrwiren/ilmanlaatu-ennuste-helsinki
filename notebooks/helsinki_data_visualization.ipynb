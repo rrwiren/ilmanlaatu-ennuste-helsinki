{
 "cells": [
  {
   "cell_type": "markdown",
   "metadata": {},
   "source": [
    "# Helsinki Kaisaniemi Weather Data - Basic Visualization (Harjoitus)\n",
    "\n",
    "This notebook loads **weather data** for the Helsinki Kaisaniemi station from a GitHub URL and performs simple visualization.\n",
    "**Note:** The provided URL contained weather data, not air quality pollutants.\n",
    "\n",
    "Tämä notebook lataa **säätietoja** Helsingin Kaisaniemen asemalta GitHub URL:sta ja tekee siitä yksinkertaisen visualisoinnin.\n",
    "**Huom:** Annettu URL sisälsi säätietoja, ei ilmanlaatusaasteita."
   ]
  },
  {
   "cell_type": "markdown",
   "metadata": {},
   "source": [
    "## 1. Import Libraries\n",
    "\n",
    "Import pandas for data manipulation and matplotlib for plotting.\n",
    "Tuodaan pandas datankäsittelyyn ja matplotlib visualisointiin."
   ]
  },
  {
   "cell_type": "code",
   "execution_count": null,
   "metadata": {},
   "outputs": [],
   "source": [
    "import pandas as pd\n",
    "import matplotlib.pyplot as plt\n",
    "import matplotlib.dates as mdates # For formatting dates on plots\n",
    "\n",
    "print(\"Libraries imported successfully!\")"
   ]
  },
  {
   "cell_type": "markdown",
   "metadata": {},
   "source": [
    "## 2. Load Data\n",
    "\n",
    "Define the URL for the raw CSV file on GitHub and load it into a pandas DataFrame.\n",
    "We'll skip the problematic header row and assign column names manually.\n",
    "\n",
    "Määritellään GitHubissa olevan CSV-tiedoston URL ja ladataan se pandas DataFrameen.\n",
    "Ohitetaan ongelmallinen otsikkorivi ja määritellään sarakenimet manuaalisesti."
   ]
  },
  {
   "cell_type": "code",
   "execution_count": null,
   "metadata": {},
   "outputs": [],
   "source": [
    "# URL provided by the user\n",
    "csv_url = 
\"https://raw.githubusercontent.com/rrwiren/ilmanlaatu-ennuste-helsinki/refs/heads/main/data/raw/Helsinki%20Kaisaniemi_%201.4.2020%20-%201.4.2025_d5590617-bf91-46c7-96f4-1fb70892265d.csv\"\n",
    "\n",
    "# Define column names manually based on the observed problematic header\n",
    "# (Correcting potential encoding issues like Ã¤ -> ä, Â° -> °)\n",
    "column_names = [\n",
    "    'Havaintoasema',\n",
    "    'Vuosi',\n",
    "    'Kuukausi',\n",
    "    'Päivä',\n",
    "    'Aika [Paikallinen aika]',\n",
    "    'Lämpötilan keskiarvo [°C]',\n",
    "    'Keskituulen nopeus [m/s]',\n",
    "    'Tuulen suunnan keskiarvo [°]',\n",
    "    'Ilmanpaineen keskiarvo [hPa]'\n",
    "]\n",
    "\n",
    "# Attempt to load the CSV file using comma separator, skipping the header\n",
    "try:\n",
    "    df = pd.read_csv(\n",
    "        csv_url,\n",
    "        sep=',',            # Use comma as separator\n",
    "        decimal='.',        # Assume dot as decimal separator with comma sep\n",
    "        encoding='latin-1', # Keep latin-1 as it seemed to load bytes\n",
    "        skiprows=1,         # Skip the original header row\n",
    "        header=None,        # Tell pandas there's no header in the data rows\n",
    "        names=column_names  # Assign the manually defined names\n",
    "    )\n",
    "    print(\"CSV loaded successfully with comma separator, skipping header, and assigning names.\")\n",
    "\n",
    "except Exception as e:\n",
    "    print(f\"Failed to load CSV: {e}\")\n",
    "    print(\"Could not load the CSV file. Please check the URL and file format.\")\n",
    "    # Optional: Raise an error or exit if loading fails\n",
    "    # raise\n",
    "\n",
    "# Display the first few rows and basic info if loaded successfully\n",
    "if 'df' in locals():\n",
    "    print(\"\\nFirst 5 rows of the DataFrame:\")\n",
    "    print(df.head())\n",
    "    print(\"\\nDataFrame Info:\")\n",
    "    df.info()"
   ]
  },
  {
   "cell_type": "markdown",
   "metadata": {},
   "source": [
    "## 3. Data Cleaning and Preparation\n",
    "\n",
    "Inspect the data and prepare it for visualization.\n",
    "* Combine Year, Month, Day, and Time columns into a single datetime column.\n",
    "* Set the datetime column as the DataFrame index.\n",
    "* Ensuring weather data columns are numeric.\n",
    "\n",
    "Tutkitaan dataa ja valmistellaan se visualisointia varten.\n",
    "* Yhdistetään Vuosi, Kuukausi, Päivä ja Aika sarakkeet yhdeksi datetime-sarakkeeksi.\n",
    "* Asetetaan datetime-sarake DataFramen indeksiksi.\n",
    "* Varmistetaan, että säädatan sarakkeet ovat numeerisia."
   ]
  },
  {
   "cell_type": "code",
   "execution_count": null,
   "metadata": {},
   "outputs": [],
   "source": [
    "if 'df' in locals():\n",
    "    # --- Create and Convert Timestamp Column ---\n",
    "    print(\"\\nCreating combined datetime column...\")\n",
    "    try:\n",
    "        # Combine date and time parts into a single string column\n",
    "        # Ensure components are strings before concatenation\n",
    "        df['DateTimeString'] = df['Vuosi'].astype(str) + '-' + \\\n",
    "                               df['Kuukausi'].astype(str).str.zfill(2) + '-' + \\\n",
    "                               df['Päivä'].astype(str).str.zfill(2) + ' ' + \\\n",
    "                               df['Aika [Paikallinen aika]']\n",
    "\n",
    "        # Convert the combined string column to datetime objects\n",
    "        df['Aika'] = pd.to_datetime(df['DateTimeString'])\n",
    "        print(\"'Aika' column created and converted successfully.\")\n",
    "\n",
    "        # Set the datetime column as the index\n",
    "        print(f\"Setting 'Aika' as index...\")\n",
    "        df.set_index('Aika', inplace=True)\n",
    "        print(\"Index set successfully.\")\n",
    "\n",
    "        # Optionally drop intermediate columns\n",
    "        df.drop(columns=['Vuosi', 'Kuukausi', 'Päivä', 'Aika [Paikallinen aika]', 'DateTimeString'], inplace=True)\n",
    "        print(\"Original date/time columns dropped.\")\n",
    "\n",
    "    except Exception as e:\n",
    "        print(f\"Error creating or setting index: {e}\")\n",
    "        print(\"Skipping index setting and dropping columns.\")\n",
    "\n",
    "\n",
    "    # --- Ensure Weather Data Columns are Numeric ---\n",
    "    # Identify weather columns to convert\n",
    "    weather_columns = [\n",
    "        'Lämpötilan keskiarvo [°C]',\n",
    "        'Keskituulen nopeus [m/s]',\n",
    "        'Tuulen suunnan keskiarvo [°]',\n",
    "        'Ilmanpaineen keskiarvo [hPa]'\n",
    "    ]\n",
    "\n",
    "    print(\"\\nConverting weather columns to numeric...\")\n",
    "    for col in weather_columns:\n",
    "        if col in df.columns:\n",
    "            # Convert to numeric, coercing errors\n",
    "            # Need to handle potential comma decimals if sep=',' didn't handle it\n",
    "            if df[col].dtype == 'object':\n",
    "                 df[col] = df[col].str.replace(',', '.', regex=False) # Replace comma decimal if needed\n",
    "            df[col] = pd.to_numeric(df[col], errors='coerce')\n",
    "            print(f\" - Column '{col}' converted to numeric (errors coerced to NaN).\")\n",
    "        else:\n",
    "            print(f\" - Warning: Weather column '{col}' not found.\")\n",
    "\n",
    "    # Display info again to see changes\n",
    "    print(\"\\nDataFrame Info after cleaning:\")\n",
    "    df.info()\n",
    "    print(\"\\nFirst 5 rows after cleaning:\")\n",
    "    print(df.head())"
   ]
  },
  {
   "cell_type": "markdown",
   "metadata": {},
   "source": [
    "## 4. Basic Visualization\n",
    "\n",
    "Create a simple time series plot for one of the weather variables (e.g., Temperature).\n",
    "Luodaan yksinkertainen aikasarjakuvaaja yhdelle säämuuttujalle (esim. Lämpötila)."
   ]
  },
  {
   "cell_type": "code",
   "execution_count": null,
   "metadata": {},
   "outputs": [],
   "source": [
    "if 'df' in locals() and isinstance(df.index, pd.DatetimeIndex):\n",
    "    # --- Plot Time Series ---\n",
    "    # *** Choose the weather variable you want to plot ***\n",
    "    variable_to_plot = 'Lämpötilan keskiarvo [°C]' # <<< CHANGE THIS IF NECESSARY\n",
    "\n",
    "    if variable_to_plot in df.columns:\n",
    "        print(f\"\\nPlotting time series for '{variable_to_plot}'...\")\n",
    "\n",
    "        plt.style.use('seaborn-v0_8-whitegrid') # Use a clean plot style\n",
    "        fig, ax = plt.subplots(figsize=(15, 6)) # Create a figure and axes object\n",
    "\n",
    "        df[variable_to_plot].plot(ax=ax, label=variable_to_plot, alpha=0.8)\n",
    "\n",
    "        # Improve formatting\n",
    "        ax.set_title(f'Helsinki Kaisaniemi - {variable_to_plot} Over Time')\n",
    "        ax.set_xlabel('Date / Aika')\n",
    "        # Extract unit from column name if possible, otherwise set manually\n",
    "        unit = variable_to_plot.split('[')[-1].split(']')[0] if '[' in variable_to_plot else 'Units'\n",
    "        ax.set_ylabel(f'{variable_to_plot.split(\"[\")[0].strip()} ({unit})') # Get name before unit\n",
    "        ax.legend()\n",
    "        ax.grid(True) # Add grid lines\n",
    "\n",
    "        # Format x-axis dates for better readability\n",
    "        ax.xaxis.set_major_locator(mdates.YearLocator())\n",
    "        ax.xaxis.set_major_formatter(mdates.DateFormatter('%Y-%m'))\n",
    "        plt.xticks(rotation=45) # Rotate x-axis labels\n",
    "\n",
    "        plt.tight_layout() # Adjust layout to prevent labels overlapping\n",
    "        plt.show() # Display the plot\n",
    "\n",
    "    else:\n",
    "        print(f\"Cannot plot: Column '{variable_to_plot}' not found or data is not numeric.\")\n",
    "\n",
    "    # --- Optional: Plot Histogram ---\n",
    "    # You can uncomment this section to plot a histogram of the distribution\n",
    "\n",
    "    # print(f\"\\nPlotting histogram for '{variable_to_plot}'...\")\n",
    "    # fig_hist, ax_hist = plt.subplots(figsize=(10, 5))\n",
    "    # df[variable_to_plot].hist(ax=ax_hist, bins=50, alpha=0.7)\n",
    "    # ax_hist.set_title(f'Distribution of {variable_to_plot}')\n",
    "    # ax_hist.set_xlabel(f'{variable_to_plot.split(\"[\")[0].strip()} ({unit})')\n",
    "    # ax_hist.set_ylabel('Frequency / Frekvenssi')\n",
    "    # ax_hist.grid(False)\n",
    "    # plt.tight_layout()\n",
    "    # plt.show()\n",
    "\n",
    "elif 'df' in locals():\n",
    "    print(\"\\nSkipping plotting because the index is not a DatetimeIndex. Please check Step 3.\")\n",
    "else:\n",
    "    print(\"\\nSkipping plotting because the DataFrame was not loaded successfully.\")"
   ]
  },
  {
   "cell_type": "markdown",
   "metadata": {},
   "source": [
    "## 5. Next Steps\n",
    "\n",
    "This notebook now visualizes weather data from the provided file. Potential next steps include:\n",
    "* Finding a data source that contains the actual **air quality pollutant data** (PM2.5, NO2, etc.) for Helsinki Kaisaniemi or other 
stations.\n",
    "* Handling missing values in the weather data (e.g., interpolation).\n",
    "* Calculating rolling averages for weather variables.\n",
    "* Merging this weather data with air quality data once obtained.\n",
    "\n",
    "Tämä notebook visualisoi nyt säätietoja annetusta tiedostosta. Mahdollisia seuraavia vaiheita:\n",
    "* Etsiä datalähde, joka sisältää varsinaiset **ilmanlaadun saastetiedot** (PM2.5, NO2, jne.) Helsingin Kaisaniemen tai muiden asemien 
osalta.\n",
    "* Käsitellä puuttuvat arvot säätiedoissa (esim. interpolointi).\n",
    "* Laskea liukuvia keskiarvoja säämuuttujille.\n",
    "* Yhdistää tämä säätieto ilmanlaatutietoon, kun se on saatavilla."
   ]
  }
 ],
 "metadata": {
  "kernelspec": {
   "display_name": "Python 3 (ipykernel)",
   "language": "python",
   "name": "python3"
  },
  "language_info": {
   "codemirror_mode": {
    "name": "ipython",
    "version": 3
   },
   "file_extension": ".py",
   "mimetype": "text/x-python",
   "name": "python",
   "nbconvert_exporter": "python",
   "pygments_lexer": "ipython3",
   "version": "3.10.12"
  },
  "jupytext": {
   "text_representation": {
    "extension": ".py",
    "format_name": "light",
    "format_version": "1.5",
    "jupytext_version": "1.14.5"
   }
  }
 },
 "nbformat": 4,
 "nbformat_minor": 5
}

